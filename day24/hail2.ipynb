{
 "cells": [
  {
   "cell_type": "code",
   "execution_count": 4,
   "metadata": {},
   "outputs": [],
   "source": [
    "from dataclasses import dataclass\n",
    "import random\n",
    "import numpy as np"
   ]
  },
  {
   "cell_type": "code",
   "execution_count": 5,
   "metadata": {},
   "outputs": [],
   "source": [
    "from typing import List\n",
    "\n",
    "@dataclass\n",
    "class XYZ:\n",
    "    x: int\n",
    "    y: int\n",
    "    z: int\n",
    "\n",
    "    @property\n",
    "    def coords(self):\n",
    "        return [self.x, self.y, self.z]\n",
    "\n",
    "    def __add__(self, o):\n",
    "        return XYZ(x = self.x + o.x, y = self.y + o.y, z = self.z + o.z)\n",
    "\n",
    "    def __mul__(self, scalar):\n",
    "        return XYZ(x = self.x * scalar, y = self.y * scalar, z = self.z * scalar)\n",
    "        \n",
    "    def __sub__(self, o):\n",
    "        return self + (o * -1)\n",
    "\n",
    "DOWN    = XYZ( 0, -1,  0)\n",
    "UP      = XYZ( 0,  1,  0)\n",
    "LEFT    = XYZ(-1,  0,  0)\n",
    "RIGHT   = XYZ( 1,  0,  0)\n",
    "BACK    = XYZ( 0,  0, -1)\n",
    "FORWARD = XYZ( 0,  0,  1)"
   ]
  },
  {
   "cell_type": "code",
   "execution_count": 6,
   "metadata": {},
   "outputs": [],
   "source": [
    "def parse_XYZ(line):\n",
    "    parts = [int(x.strip()) for x in line.strip().split(', ')]\n",
    "    return XYZ(*parts)"
   ]
  },
  {
   "cell_type": "code",
   "execution_count": 7,
   "metadata": {},
   "outputs": [],
   "source": [
    "@dataclass\n",
    "class Ray:\n",
    "    start: XYZ\n",
    "    velocity: XYZ\n",
    "\n",
    "def parse_Ray(line):\n",
    "    parts = line.strip().split(' @ ')\n",
    "    return Ray(start=parse_XYZ(parts[0]), velocity=parse_XYZ(parts[1]))"
   ]
  },
  {
   "cell_type": "code",
   "execution_count": 8,
   "metadata": {},
   "outputs": [],
   "source": [
    "with open('input', 'r') as f:\n",
    "    input_file = f.readlines()"
   ]
  },
  {
   "cell_type": "code",
   "execution_count": 9,
   "metadata": {},
   "outputs": [],
   "source": [
    "rays = [parse_Ray(line) for line in input_file]"
   ]
  },
  {
   "cell_type": "code",
   "execution_count": 120,
   "metadata": {},
   "outputs": [],
   "source": [
    "flat_order = [BACK, RIGHT, FORWARD, LEFT]\n",
    "side_order = [LEFT, BACK, RIGHT, FORWARD]\n",
    "\n",
    "def flat_yield(start, size):\n",
    "    curr = start\n",
    "    yield curr\n",
    "    step_size = 1\n",
    "    ord_idx = 0\n",
    "    while step_size <= size:\n",
    "        for _a in range(0, 2):\n",
    "            for _b in range(0, step_size):\n",
    "                curr += flat_order[ord_idx]\n",
    "                yield curr\n",
    "            ord_idx += 1\n",
    "            ord_idx %= 4\n",
    "        step_size += 1\n",
    "    for _a in range(0, size):\n",
    "        curr += flat_order[ord_idx]\n",
    "        yield curr\n",
    "\n",
    "\n",
    "def cube_points_iterator(max_size=None, start_size=2):\n",
    "    size = start_size\n",
    "    curr = XYZ(0, 1, 0) * (size // 2)\n",
    "    while True:\n",
    "        if max_size is not None and max_size < size:\n",
    "            break\n",
    "        top_point = curr + UP\n",
    "\n",
    "        # Flat top\n",
    "        yield from flat_yield(top_point, size)\n",
    "\n",
    "        # Sides\n",
    "        front_right_point = top_point + FORWARD * (size // 2) + RIGHT * (size // 2)\n",
    "        curr = front_right_point\n",
    "        for side in range(1, size):\n",
    "            curr += DOWN\n",
    "            yield curr\n",
    "            for ord_idx in range(0, 4):\n",
    "                for _i in range(1, size + 1):\n",
    "                    curr += side_order[ord_idx]\n",
    "                    yield curr\n",
    "\n",
    "        # Flat bottom\n",
    "        bottom_point = top_point + (DOWN * (size))\n",
    "        yield from flat_yield(bottom_point, size)\n",
    "\n",
    "        # End\n",
    "        curr = top_point\n",
    "        print('Past all points in cube of size: ', size)\n",
    "        size += 2"
   ]
  },
  {
   "cell_type": "code",
   "execution_count": 125,
   "metadata": {},
   "outputs": [],
   "source": [
    "def simpler_iterator(min_x, max_x, min_y, max_y, min_z, max_z):\n",
    "    for x in range(min_x, max_x + 1):\n",
    "        for y in range(min_y, max_y + 1):\n",
    "            for z in range(min_z, max_z + 1):\n",
    "                yield XYZ(x, y, z)"
   ]
  },
  {
   "cell_type": "code",
   "execution_count": 124,
   "metadata": {},
   "outputs": [
    {
     "name": "stdout",
     "output_type": "stream",
     "text": [
      "Past all points in cube of size:  2\n",
      "Past all points in cube of size:  2\n",
      "Past all points in cube of size:  4\n",
      "Past all points in cube of size:  2\n",
      "Past all points in cube of size:  4\n",
      "Past all points in cube of size:  6\n",
      "Past all points in cube of size:  8\n",
      "Past all points in cube of size:  10\n",
      "Past all points in cube of size:  12\n",
      "Past all points in cube of size:  14\n",
      "Past all points in cube of size:  16\n"
     ]
    }
   ],
   "source": [
    "def test_vel_yield(size, start_size=2):\n",
    "    list_vel = list(cube_points_iterator(size))\n",
    "    maximum_ss = (start_size // 2)\n",
    "    minimum = -(size // 2)\n",
    "    maximum = (size // 2)\n",
    "\n",
    "    for x in range(minimum, maximum +1):\n",
    "        for y in range(minimum, maximum +1):\n",
    "            for z in range(minimum, maximum +1):\n",
    "                if abs(x) <maximum_ss or abs(y) < maximum_ss or abs(z) < maximum_ss:\n",
    "                    continue\n",
    "                punkt = XYZ(x, y, z)\n",
    "                assert punkt in list_vel, f'Missing {punkt} in {list_vel}'\n",
    "\n",
    "test_vel_yield(2)\n",
    "test_vel_yield(4)\n",
    "test_vel_yield(16, 8)"
   ]
  },
  {
   "cell_type": "code",
   "execution_count": 102,
   "metadata": {},
   "outputs": [],
   "source": [
    "# 0: s.x, 1: s.y, 2: s.z, 3: t_0, .... \n",
    "\n",
    "def equations_for(co_len, velocity, coord, rays: List[Ray], how_many):\n",
    "    coefficients = []\n",
    "    results = []\n",
    "    for i in range(0, min(how_many, len(rays))):\n",
    "        ray = rays[i]\n",
    "        cos = [0] * co_len\n",
    "        cos[coord] = 1\n",
    "        t_idx = 3 + i\n",
    "        cos[t_idx] = velocity.coords[coord] - ray.velocity.coords[coord]\n",
    "        coefficients.append(cos)\n",
    "        results.append(ray.start.coords[coord])\n",
    "    return (coefficients, results)\n",
    "\n",
    "def compute_for(velocity, rays):\n",
    "    coefficients = []\n",
    "    results = []\n",
    "\n",
    "    co_len = len(rays) + 3\n",
    "    left = co_len*3\n",
    "    e, r = equations_for(co_len, velocity, 0, rays, left)\n",
    "    coefficients.extend(e)\n",
    "    results.extend(r)\n",
    "\n",
    "    left -= len(r)\n",
    "    e, r = equations_for(co_len, velocity, 1, rays, left)\n",
    "    coefficients.extend(e)\n",
    "    results.extend(r)\n",
    "\n",
    "    left -= len(r)\n",
    "    e, r = equations_for(co_len, velocity, 2, rays, left)\n",
    "    coefficients.extend(e)\n",
    "    results.extend(r)\n",
    "\n",
    "    c = np.array(coefficients)\n",
    "    r = np.array(results)\n",
    "\n",
    "    res, _, _, _ = np.linalg.lstsq(c, r)\n",
    "    return res"
   ]
  },
  {
   "cell_type": "code",
   "execution_count": 112,
   "metadata": {},
   "outputs": [],
   "source": [
    "def verify(res, velocity: XYZ, rays: List[Ray]):\n",
    "    for coord_idx in range(0, 3):\n",
    "        s = res[coord_idx]\n",
    "        s_v = velocity.coords[coord_idx]\n",
    "        for ray_idx, ray in enumerate(rays):\n",
    "            t_idx = 3 + ray_idx\n",
    "            t = res[t_idx]\n",
    "            #print(\"l, r:\", s + t* (s_v - ray.velocity.coords[coord_idx]), ray.start.coords[coord_idx])\n",
    "            if not np.isclose(s + t* (s_v - ray.velocity.coords[coord_idx]), ray.start.coords[coord_idx], rtol=0.001, atol=0.001):\n",
    "                return False\n",
    "    return True"
   ]
  },
  {
   "cell_type": "code",
   "execution_count": 121,
   "metadata": {},
   "outputs": [],
   "source": [
    "def find_solution(rays, num):\n",
    "    for vel in cube_points_iterator():\n",
    "        sample_rays = random.sample(rays, num)\n",
    "        res = compute_for(vel, sample_rays)\n",
    "        if verify(res, vel, sample_rays):\n",
    "            start = XYZ(res[0], res[1], res[2])\n",
    "            print(\"Start: \", start)\n",
    "            print(\"Velocity: \", vel)\n",
    "            return"
   ]
  },
  {
   "cell_type": "code",
   "execution_count": 114,
   "metadata": {},
   "outputs": [],
   "source": [
    "test_input = \"\"\"1, 1, 0 @ -1, 0, 0\n",
    "2, 2, 0 @ -1, 0, 0\n",
    "3, 3, 0 @ -1, 0, 0\n",
    "4, 4, 0 @ -1, 0, 0\n",
    "-5, -5, 0 @ 1, 0, 0\"\"\"\n",
    "# Res: 0, 0, 0 @ 0, 1, 0\n",
    "\n",
    "test_rays = [parse_Ray(line) for line in test_input.split('\\n')]"
   ]
  },
  {
   "cell_type": "code",
   "execution_count": 115,
   "metadata": {},
   "outputs": [
    {
     "name": "stderr",
     "output_type": "stream",
     "text": [
      "/tmp/ipykernel_601/3557056552.py:39: FutureWarning: `rcond` parameter will change to the default of machine precision times ``max(M, N)`` where M and N are the input matrix dimensions.\n",
      "To use the future default and silence this warning we advise to pass `rcond=None`, to keep using the old, explicitly pass `rcond=-1`.\n",
      "  res, _, _, _ = np.linalg.lstsq(c, r)\n"
     ]
    }
   ],
   "source": [
    "res = compute_for(XYZ(0, 1, 0), test_rays)"
   ]
  },
  {
   "cell_type": "code",
   "execution_count": 118,
   "metadata": {},
   "outputs": [
    {
     "name": "stdout",
     "output_type": "stream",
     "text": [
      "Start:  XYZ(x=-4.999999999999995, y=-4.9999999999999964, z=-8.881784197001252e-16)\n",
      "Velocity:  XYZ(x=0, y=1, z=0)\n"
     ]
    },
    {
     "name": "stderr",
     "output_type": "stream",
     "text": [
      "/tmp/ipykernel_601/3557056552.py:39: FutureWarning: `rcond` parameter will change to the default of machine precision times ``max(M, N)`` where M and N are the input matrix dimensions.\n",
      "To use the future default and silence this warning we advise to pass `rcond=None`, to keep using the old, explicitly pass `rcond=-1`.\n",
      "  res, _, _, _ = np.linalg.lstsq(c, r)\n"
     ]
    }
   ],
   "source": [
    "find_solution(test_rays, len(test_rays))"
   ]
  },
  {
   "cell_type": "code",
   "execution_count": 122,
   "metadata": {},
   "outputs": [
    {
     "name": "stderr",
     "output_type": "stream",
     "text": [
      "/tmp/ipykernel_601/3557056552.py:39: FutureWarning: `rcond` parameter will change to the default of machine precision times ``max(M, N)`` where M and N are the input matrix dimensions.\n",
      "To use the future default and silence this warning we advise to pass `rcond=None`, to keep using the old, explicitly pass `rcond=-1`.\n",
      "  res, _, _, _ = np.linalg.lstsq(c, r)\n"
     ]
    },
    {
     "name": "stdout",
     "output_type": "stream",
     "text": [
      "Past all points in cube of size:  2\n",
      "Past all points in cube of size:  4\n",
      "Past all points in cube of size:  6\n",
      "Past all points in cube of size:  8\n",
      "Past all points in cube of size:  10\n",
      "Past all points in cube of size:  12\n",
      "Past all points in cube of size:  14\n",
      "Past all points in cube of size:  16\n",
      "Past all points in cube of size:  18\n",
      "Past all points in cube of size:  20\n",
      "Past all points in cube of size:  22\n",
      "Past all points in cube of size:  24\n",
      "Past all points in cube of size:  26\n",
      "Past all points in cube of size:  28\n",
      "Past all points in cube of size:  30\n",
      "Past all points in cube of size:  32\n",
      "Past all points in cube of size:  34\n",
      "Past all points in cube of size:  36\n"
     ]
    },
    {
     "ename": "KeyboardInterrupt",
     "evalue": "",
     "output_type": "error",
     "traceback": [
      "\u001b[0;31m---------------------------------------------------------------------------\u001b[0m",
      "\u001b[0;31mKeyboardInterrupt\u001b[0m                         Traceback (most recent call last)",
      "Cell \u001b[0;32mIn[122], line 1\u001b[0m\n\u001b[0;32m----> 1\u001b[0m \u001b[43mfind_solution\u001b[49m\u001b[43m(\u001b[49m\u001b[43mrays\u001b[49m\u001b[43m,\u001b[49m\u001b[43m \u001b[49m\u001b[38;5;28;43mlen\u001b[39;49m\u001b[43m(\u001b[49m\u001b[43mrays\u001b[49m\u001b[43m)\u001b[49m\u001b[43m)\u001b[49m\n",
      "Cell \u001b[0;32mIn[121], line 4\u001b[0m, in \u001b[0;36mfind_solution\u001b[0;34m(rays, num)\u001b[0m\n\u001b[1;32m      2\u001b[0m \u001b[38;5;28;01mfor\u001b[39;00m vel \u001b[38;5;129;01min\u001b[39;00m cube_points_iterator():\n\u001b[1;32m      3\u001b[0m     sample_rays \u001b[38;5;241m=\u001b[39m random\u001b[38;5;241m.\u001b[39msample(rays, num)\n\u001b[0;32m----> 4\u001b[0m     res \u001b[38;5;241m=\u001b[39m \u001b[43mcompute_for\u001b[49m\u001b[43m(\u001b[49m\u001b[43mvel\u001b[49m\u001b[43m,\u001b[49m\u001b[43m \u001b[49m\u001b[43msample_rays\u001b[49m\u001b[43m)\u001b[49m\n\u001b[1;32m      5\u001b[0m     \u001b[38;5;28;01mif\u001b[39;00m verify(res, vel, sample_rays):\n\u001b[1;32m      6\u001b[0m         start \u001b[38;5;241m=\u001b[39m XYZ(res[\u001b[38;5;241m0\u001b[39m], res[\u001b[38;5;241m1\u001b[39m], res[\u001b[38;5;241m2\u001b[39m])\n",
      "Cell \u001b[0;32mIn[102], line 39\u001b[0m, in \u001b[0;36mcompute_for\u001b[0;34m(velocity, rays)\u001b[0m\n\u001b[1;32m     36\u001b[0m c \u001b[38;5;241m=\u001b[39m np\u001b[38;5;241m.\u001b[39marray(coefficients)\n\u001b[1;32m     37\u001b[0m r \u001b[38;5;241m=\u001b[39m np\u001b[38;5;241m.\u001b[39marray(results)\n\u001b[0;32m---> 39\u001b[0m res, _, _, _ \u001b[38;5;241m=\u001b[39m \u001b[43mnp\u001b[49m\u001b[38;5;241;43m.\u001b[39;49m\u001b[43mlinalg\u001b[49m\u001b[38;5;241;43m.\u001b[39;49m\u001b[43mlstsq\u001b[49m\u001b[43m(\u001b[49m\u001b[43mc\u001b[49m\u001b[43m,\u001b[49m\u001b[43m \u001b[49m\u001b[43mr\u001b[49m\u001b[43m)\u001b[49m\n\u001b[1;32m     40\u001b[0m \u001b[38;5;28;01mreturn\u001b[39;00m res\n",
      "File \u001b[0;32m~/.local/lib/python3.9/site-packages/numpy/linalg/linalg.py:2326\u001b[0m, in \u001b[0;36mlstsq\u001b[0;34m(a, b, rcond)\u001b[0m\n\u001b[1;32m   2323\u001b[0m \u001b[38;5;28;01mif\u001b[39;00m n_rhs \u001b[38;5;241m==\u001b[39m \u001b[38;5;241m0\u001b[39m:\n\u001b[1;32m   2324\u001b[0m     \u001b[38;5;66;03m# lapack can't handle n_rhs = 0 - so allocate the array one larger in that axis\u001b[39;00m\n\u001b[1;32m   2325\u001b[0m     b \u001b[38;5;241m=\u001b[39m zeros(b\u001b[38;5;241m.\u001b[39mshape[:\u001b[38;5;241m-\u001b[39m\u001b[38;5;241m2\u001b[39m] \u001b[38;5;241m+\u001b[39m (m, n_rhs \u001b[38;5;241m+\u001b[39m \u001b[38;5;241m1\u001b[39m), dtype\u001b[38;5;241m=\u001b[39mb\u001b[38;5;241m.\u001b[39mdtype)\n\u001b[0;32m-> 2326\u001b[0m x, resids, rank, s \u001b[38;5;241m=\u001b[39m \u001b[43mgufunc\u001b[49m\u001b[43m(\u001b[49m\u001b[43ma\u001b[49m\u001b[43m,\u001b[49m\u001b[43m \u001b[49m\u001b[43mb\u001b[49m\u001b[43m,\u001b[49m\u001b[43m \u001b[49m\u001b[43mrcond\u001b[49m\u001b[43m,\u001b[49m\u001b[43m \u001b[49m\u001b[43msignature\u001b[49m\u001b[38;5;241;43m=\u001b[39;49m\u001b[43msignature\u001b[49m\u001b[43m,\u001b[49m\u001b[43m \u001b[49m\u001b[43mextobj\u001b[49m\u001b[38;5;241;43m=\u001b[39;49m\u001b[43mextobj\u001b[49m\u001b[43m)\u001b[49m\n\u001b[1;32m   2327\u001b[0m \u001b[38;5;28;01mif\u001b[39;00m m \u001b[38;5;241m==\u001b[39m \u001b[38;5;241m0\u001b[39m:\n\u001b[1;32m   2328\u001b[0m     x[\u001b[38;5;241m.\u001b[39m\u001b[38;5;241m.\u001b[39m\u001b[38;5;241m.\u001b[39m] \u001b[38;5;241m=\u001b[39m \u001b[38;5;241m0\u001b[39m\n",
      "\u001b[0;31mKeyboardInterrupt\u001b[0m: "
     ]
    }
   ],
   "source": [
    "find_solution(rays, len(rays))"
   ]
  },
  {
   "cell_type": "code",
   "execution_count": 126,
   "metadata": {},
   "outputs": [
    {
     "name": "stderr",
     "output_type": "stream",
     "text": [
      "/tmp/ipykernel_601/3557056552.py:39: FutureWarning: `rcond` parameter will change to the default of machine precision times ``max(M, N)`` where M and N are the input matrix dimensions.\n",
      "To use the future default and silence this warning we advise to pass `rcond=None`, to keep using the old, explicitly pass `rcond=-1`.\n",
      "  res, _, _, _ = np.linalg.lstsq(c, r)\n"
     ]
    },
    {
     "data": {
      "text/plain": [
       "True"
      ]
     },
     "execution_count": 126,
     "metadata": {},
     "output_type": "execute_result"
    }
   ],
   "source": [
    "guess_vel = XYZ(245,75,221)\n",
    "guess_res = compute_for(guess_vel, rays)\n",
    "verify(guess_res, guess_vel, rays)"
   ]
  },
  {
   "cell_type": "code",
   "execution_count": 127,
   "metadata": {},
   "outputs": [
    {
     "data": {
      "text/plain": [
       "array([1.59153037e+14, 2.28139154e+14, 1.70451316e+14, 7.34248440e+11,\n",
       "       8.54610412e+11, 3.00825392e+11, 8.91181836e+11, 8.31808607e+11,\n",
       "       8.71156047e+11, 5.01798422e+11, 9.84569048e+11, 7.95502862e+11,\n",
       "       9.51688371e+11, 5.32442826e+11, 8.64175465e+11, 4.41167286e+11,\n",
       "       4.21699386e+11, 3.36662694e+11, 2.16550982e+11, 1.03207228e+12,\n",
       "       3.13040513e+11, 8.52308161e+11, 6.50693441e+11, 1.80294721e+11,\n",
       "       5.36791923e+11, 4.25357333e+11, 6.20395946e+11, 8.16569411e+10,\n",
       "       4.18757631e+11, 1.01543035e+11, 6.68784853e+11, 7.81008798e+11,\n",
       "       1.53541661e+11, 5.66348222e+10, 1.01093378e+12, 3.65262950e+11,\n",
       "       8.73685197e+11, 7.25482658e+11, 9.91315785e+11, 5.88703883e+10,\n",
       "       3.96464019e+11, 4.95492050e+11, 4.53581633e+11, 5.45523664e+11,\n",
       "       5.54451045e+11, 4.67166712e+11, 1.44333741e+11, 6.62435239e+10,\n",
       "       8.24028168e+11, 5.10309634e+11, 9.00655440e+11, 4.93678155e+11,\n",
       "       3.10883141e+11, 8.69814230e+11, 9.87253317e+11, 6.10243488e+11,\n",
       "       5.53452564e+11, 5.15091425e+11, 8.66565242e+11, 4.17256629e+11,\n",
       "       8.07534432e+11, 3.32828034e+11, 5.14077101e+11, 1.89284375e+11,\n",
       "       9.96145293e+11, 6.79185410e+11, 8.17495313e+11, 9.12519319e+11,\n",
       "       3.04715878e+11, 8.67728754e+11, 6.58106607e+11, 1.07136633e+11,\n",
       "       7.45217812e+11, 1.68424099e+11, 6.46067456e+11, 7.34912526e+11,\n",
       "       9.77470128e+11, 3.71197843e+11, 1.54431824e+11, 7.06702847e+10,\n",
       "       7.71651129e+11, 2.34652746e+11, 2.22838545e+11, 4.93269741e+11,\n",
       "       1.77079566e+11, 8.10209413e+11, 3.68197392e+11, 4.87248680e+11,\n",
       "       2.97991960e+11, 1.94993924e+11, 9.95981990e+11, 6.32300001e+11,\n",
       "       6.87944583e+11, 1.95779010e+11, 1.04065117e+12, 8.62685353e+11,\n",
       "       7.33844089e+11, 3.83111193e+11, 6.75376091e+11, 6.80440849e+11,\n",
       "       6.80854718e+11, 4.45017095e+11, 1.58119106e+11, 2.67960252e+11,\n",
       "       2.95288215e+11, 8.50754741e+11, 8.72568123e+10, 6.48542091e+11,\n",
       "       3.36036873e+11, 9.03711291e+11, 5.98390858e+11, 6.48506015e+11,\n",
       "       4.58845178e+11, 7.91884516e+11, 6.61526884e+11, 5.00041769e+11,\n",
       "       8.13740384e+10, 8.77576764e+11, 8.93263461e+11, 1.00514417e+12,\n",
       "       4.65916368e+11, 7.53428746e+11, 3.71802033e+11, 1.29755002e+11,\n",
       "       4.90861012e+11, 7.20638932e+11, 5.74398039e+11, 9.84312328e+11,\n",
       "       4.94432062e+11, 5.47809781e+11, 1.03421960e+12, 4.37631052e+11,\n",
       "       9.26899580e+11, 4.93755590e+11, 9.76613012e+11, 9.34147428e+11,\n",
       "       9.01877303e+11, 8.41701753e+11, 9.14614697e+11, 4.77374446e+11,\n",
       "       9.24483367e+10, 9.58701686e+11, 2.27850443e+11, 1.69583723e+11,\n",
       "       8.35208816e+11, 1.53907616e+11, 5.73773432e+11, 3.27282431e+11,\n",
       "       8.11716840e+11, 2.67854764e+11, 6.09596448e+11, 5.17971898e+11,\n",
       "       1.25063709e+11, 9.74346043e+11, 8.24787056e+11, 1.48309346e+11,\n",
       "       2.68107607e+11, 6.13972738e+10, 9.65468311e+11, 6.34513836e+11,\n",
       "       3.39066167e+11, 3.09805673e+11, 6.44839344e+11, 4.30606647e+11,\n",
       "       7.95283295e+11, 7.12746521e+11, 8.02626567e+11, 2.51650519e+11,\n",
       "       2.26847990e+11, 7.81465510e+11, 5.10582275e+11, 6.74863196e+11,\n",
       "       1.01440936e+12, 5.65678785e+11, 5.61849507e+11, 3.87356635e+11,\n",
       "       4.83190178e+11, 9.77851978e+11, 8.16551551e+11, 7.82428930e+11,\n",
       "       6.70068743e+11, 8.90373137e+10, 1.59568620e+11, 2.44782497e+11,\n",
       "       7.16318048e+11, 3.68500419e+11, 5.75184855e+11, 7.75410414e+11,\n",
       "       3.48453755e+11, 3.55144048e+11, 1.42415243e+11, 3.31068130e+11,\n",
       "       2.07905161e+11, 2.00399171e+11, 6.03229548e+11, 8.20260413e+11,\n",
       "       5.44629588e+11, 5.11679369e+11, 6.06214698e+11, 9.49279661e+11,\n",
       "       6.30878032e+11, 7.63664087e+11, 9.98811090e+11, 3.72376297e+11,\n",
       "       9.46215529e+11, 5.66407553e+11, 2.27044214e+11, 8.08367253e+11,\n",
       "       4.47322777e+11, 9.38825902e+11, 5.13292971e+11, 6.40087935e+11,\n",
       "       4.84176446e+11, 1.02985597e+12, 1.19860586e+11, 1.00748458e+11,\n",
       "       8.38506237e+10, 9.11240687e+11, 3.41118363e+11, 6.54413243e+11,\n",
       "       7.71765653e+11, 9.00189948e+11, 4.96524299e+11, 8.39261930e+11,\n",
       "       2.25757576e+11, 4.82150423e+11, 7.27424348e+11, 1.60719861e+11,\n",
       "       4.97293714e+11, 4.86160199e+11, 9.19937074e+11, 3.95296555e+11,\n",
       "       6.98682261e+11, 2.80398310e+11, 1.16490596e+11, 8.62312146e+10,\n",
       "       1.62625813e+11, 1.12309427e+11, 9.76326666e+11, 4.30000690e+11,\n",
       "       3.28661528e+11, 9.11353116e+11, 6.50453658e+11, 3.07768381e+11,\n",
       "       6.88695377e+11, 2.89676311e+11, 6.63013802e+11, 7.98780421e+11,\n",
       "       8.84293293e+10, 3.09104287e+11, 2.74370429e+11, 4.72625466e+11,\n",
       "       8.31758702e+10, 6.17970795e+11, 2.47309929e+11, 3.94093085e+11,\n",
       "       5.18687716e+11, 6.59198748e+11, 3.41473394e+11, 1.01969848e+12,\n",
       "       3.90321914e+11, 7.54867655e+10, 7.28550374e+11, 6.83133034e+11,\n",
       "       7.94270391e+11, 7.99761491e+11, 1.02644751e+12, 9.41287192e+10,\n",
       "       6.79329618e+11, 5.92232087e+11, 9.90785352e+11, 1.00718991e+12,\n",
       "       3.77940206e+11, 1.55055700e+11, 2.94932626e+11, 7.21513134e+11,\n",
       "       3.65675221e+11, 4.66001823e+11, 5.96127620e+11, 1.01413939e+12,\n",
       "       6.08765998e+11, 3.88968003e+11, 8.74610363e+11, 4.57856278e+11,\n",
       "       7.44149526e+11, 2.68656984e+11, 3.35619717e+11, 5.01857492e+11,\n",
       "       9.21518096e+10, 7.26407211e+11, 7.02413854e+11, 7.74023146e+11,\n",
       "       8.98506873e+10, 2.72195575e+11, 1.02238170e+12, 1.06006994e+11,\n",
       "       6.51629259e+11, 9.03160363e+11, 1.03233229e+12, 7.91382874e+11,\n",
       "       3.73216086e+11, 9.42113519e+11, 8.01998314e+11])"
      ]
     },
     "execution_count": 127,
     "metadata": {},
     "output_type": "execute_result"
    }
   ],
   "source": [
    "guess_res"
   ]
  },
  {
   "cell_type": "code",
   "execution_count": 129,
   "metadata": {},
   "outputs": [
    {
     "data": {
      "text/plain": [
       "557743507346378.94"
      ]
     },
     "execution_count": 129,
     "metadata": {},
     "output_type": "execute_result"
    }
   ],
   "source": [
    "guess_res[0] + guess_res[1] + guess_res[2]"
   ]
  },
  {
   "cell_type": "code",
   "execution_count": 130,
   "metadata": {},
   "outputs": [
    {
     "data": {
      "text/plain": [
       "557743507346379"
      ]
     },
     "execution_count": 130,
     "metadata": {},
     "output_type": "execute_result"
    }
   ],
   "source": [
    "round(guess_res[0] + guess_res[1] + guess_res[2])"
   ]
  },
  {
   "cell_type": "code",
   "execution_count": 134,
   "metadata": {},
   "outputs": [],
   "source": [
    "from sympy import Symbol\n",
    "import sympy\n",
    "\n",
    "# S.x + t * S.vx = R.x + t * R.vx\n",
    "# S.x + t * (S.vx - R.vx) - R.x = 0\n",
    "\n",
    "Sx = Symbol('Sx')\n",
    "Sy = Symbol('Sy')\n",
    "Sz = Symbol('Sz')\n",
    "\n",
    "Svx = Symbol('Svx')\n",
    "Svy = Symbol('Svy')\n",
    "Svz = Symbol('Svz')\n",
    "\n",
    "equations = []\n",
    "\n",
    "for i, ray in enumerate(random.sample(rays, 3)):\n",
    "    t = Symbol(f't_{i}')\n",
    "    equations.append(Sx + t * (Svx - ray.velocity.x) - ray.start.x)\n",
    "    equations.append(Sy + t * (Svy - ray.velocity.y) - ray.start.y)\n",
    "    equations.append(Sz + t * (Svz - ray.velocity.z) - ray.start.z)\n",
    "\n",
    "solution = sympy.solve(equations, dict=True)"
   ]
  },
  {
   "cell_type": "code",
   "execution_count": 145,
   "metadata": {},
   "outputs": [
    {
     "data": {
      "text/latex": [
       "$\\displaystyle 557743507346379$"
      ],
      "text/plain": [
       "557743507346379"
      ]
     },
     "execution_count": 145,
     "metadata": {},
     "output_type": "execute_result"
    }
   ],
   "source": [
    "solution[0][Sx] + solution[0][Sy] + solution[0][Sz]"
   ]
  },
  {
   "cell_type": "code",
   "execution_count": 146,
   "metadata": {},
   "outputs": [
    {
     "data": {
      "text/plain": [
       "[{Svx: 245,\n",
       "  Svy: 75,\n",
       "  Svz: 221,\n",
       "  Sx: 159153037374407,\n",
       "  Sy: 228139153674672,\n",
       "  Sz: 170451316297300,\n",
       "  t_0: 517971898398,\n",
       "  t_1: 726407210839,\n",
       "  t_2: 900655440059}]"
      ]
     },
     "execution_count": 146,
     "metadata": {},
     "output_type": "execute_result"
    }
   ],
   "source": [
    "solution"
   ]
  }
 ],
 "metadata": {
  "kernelspec": {
   "display_name": "Python 3",
   "language": "python",
   "name": "python3"
  },
  "language_info": {
   "codemirror_mode": {
    "name": "ipython",
    "version": 3
   },
   "file_extension": ".py",
   "mimetype": "text/x-python",
   "name": "python",
   "nbconvert_exporter": "python",
   "pygments_lexer": "ipython3",
   "version": "3.9.2"
  }
 },
 "nbformat": 4,
 "nbformat_minor": 2
}
